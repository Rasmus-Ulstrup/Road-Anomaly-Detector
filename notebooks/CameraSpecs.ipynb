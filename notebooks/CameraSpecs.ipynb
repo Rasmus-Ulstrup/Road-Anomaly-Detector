{
  "cells": [
    {
      "cell_type": "markdown",
      "metadata": {
        "id": "TqEOVNgX7zr2"
      },
      "source": [
        "***Meeting***\n",
        "\n",
        "1 4k camera variable height\n",
        "1x1 mm precision\n",
        "\n",
        "Scaling on racer 1 cameras?\n",
        "\n",
        "Which lens for Approximately 1.5 meters height\n",
        "\n",
        "LED lights?\n",
        "\n",
        "----\n",
        "\n",
        "Nye camera i august (incl low res, som er nemmere og billigere)\n",
        "\n",
        "5GigE\n",
        "\n",
        "David vil gerne have Pylon\n",
        "\n",
        "Put GigE kort i computer\n",
        "\n",
        "Float transformation\n",
        "\n",
        "binding\n",
        "\n",
        "Lense:\n",
        "\n",
        "!Pixel size!\n",
        "\n",
        "Vingetting\n",
        "\n",
        "Lens selector (IMX540/2)\n",
        "\n",
        "\n",
        "Lys fra smartgvision lights\n",
        "\n",
        "1000 euros\n",
        "\n",
        "LE Linear (LE1200)\n",
        "\n",
        "1200 mm\n",
        "\n",
        "10 degrees width 50 degree fan angle\n",
        "\n",
        "Ellers fra et byggemarket\n",
        "\n",
        "\n",
        "\n",
        "----\n",
        "C mount lensens for 2k and 4k racer2 gige\n",
        "\n",
        "not able to achieve high speed because of LED\n",
        "\n",
        "pylon for racer2\n",
        "\n",
        "reusable api for camera connectivity\n",
        "\n",
        "racer2s\n",
        "\n",
        "\n",
        "\n",
        "\n",
        "5gige recomended\n",
        "\n",
        "fpg binning or sens binning\n",
        "\n",
        "float binning scaling to a float\n",
        "\n",
        "cmount size has to be as big as it is long\n",
        "\n",
        "same resolution as well\n",
        "\n",
        "light as close as possible\n",
        "\n",
        "camera as far away as possible\n",
        "\n",
        "any led lights can be used with differing results\n",
        "\n",
        "efilux owned by css\n",
        "\n",
        "\n",
        "2.74 micrometer MX540 vs 7 micrometer racer camera"
      ]
    },
    {
      "cell_type": "markdown",
      "metadata": {
        "id": "y14SplLvoHak"
      },
      "source": [
        "# Udkast problemformulering\n",
        "1 vej bredde: 3.5 m bredde\n",
        "tættest på som muligt uden !lens distortion!\n",
        "\n",
        "Enten 0.5 Meter eller 2 Meter\n",
        "\n",
        "hvis man køber et 4k camera kan man så gå til et 1080p mode?\n",
        "\n"
      ]
    },
    {
      "cell_type": "markdown",
      "metadata": {
        "id": "BYzG0aUE_gni"
      },
      "source": []
    },
    {
      "cell_type": "markdown",
      "metadata": {
        "id": "FbXKV9KO9934"
      },
      "source": [
        "# Line scan camera model\n",
        "![principle_aquisition_line_scan_camera.png](data:image/png;base64,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)\n"
      ]
    },
    {
      "cell_type": "code",
      "execution_count": 25,
      "metadata": {
        "id": "K13LjqS0JUky"
      },
      "outputs": [],
      "source": [
        "class lineScanCam:\n",
        "    def __init__(self, focal, WD, CamSpecs):\n",
        "        # Assign\n",
        "        self.focal = focal  # Assuming focal length is in mm\n",
        "        self.WD = WD  # Working distance in meters\n",
        "        # Unpack the specs\n",
        "        self.resolution_h, self.resolution_v = CamSpecs.get(\"Resolution\", (0, 0))\n",
        "        self.pixel_size_h, self.pixel_size_v = CamSpecs.get(\"Pixel Size\", (0.0, 0.0))  # Assuming µm\n",
        "        self.line_rate = CamSpecs.get(\"Line Rate\", 0)\n",
        "        # Small calculations\n",
        "\n",
        "    def getFOV(self):\n",
        "        # Convert focal length to meters from mm, same for pixel width\n",
        "        focal_length_m = self.focal / 1000  # Convert mm to meters\n",
        "        pixel_width_m = self.pixel_size_h / 1e6  # Convert µm to meters\n",
        "\n",
        "        # Calculate sensor width\n",
        "        sensor_width_m = self.resolution_h * pixel_width_m\n",
        "\n",
        "        # Calculate FOV\n",
        "        FOV = (sensor_width_m / focal_length_m) * self.WD\n",
        "        return FOV\n",
        "\n",
        "    def getSpartial(self):\n",
        "        # Calculate spatial resolution in meters per pixel\n",
        "        FOV = self.getFOV()\n",
        "        spatial_resolution = FOV / self.resolution_h\n",
        "        return spatial_resolution*1000\n",
        "\n",
        "    def getMaxSpeed(self):\n",
        "        # Calculate maximum speed in m/s then convert to km/h\n",
        "        spatial_resolution = self.getSpartial()\n",
        "        max_speed_m_per_s = spatial_resolution * self.line_rate\n",
        "        max_speed_km_per_h = max_speed_m_per_s * 3.6\n",
        "        return max_speed_km_per_h\n",
        "    \n",
        "    def calculateLineRate(self, speed_kmh):\n",
        "        # Convert speed from km/h to m/s\n",
        "        speed_ms = speed_kmh * 1000 / 3600\n",
        "\n",
        "        # Calculate spatial resolution (in meters per pixel)\n",
        "        spatial_resolution_m = self.getSpartial() / 1000  # Convert mm to meters\n",
        "\n",
        "        # Calculate line rate in lines per second\n",
        "        line_rate = speed_ms / spatial_resolution_m\n",
        "        return line_rate\n",
        "    \n",
        "    def calculateMaxExposureTime(self, speed_kmh):\n",
        "        # Convert speed from km/h to m/s\n",
        "        speed_ms = speed_kmh * 1000 / 3600\n",
        "\n",
        "        # Calculate spatial resolution (in meters per pixel)\n",
        "        spatial_resolution_m = self.getSpartial() / 1000  # Convert mm to meters\n",
        "\n",
        "        # Maximum exposure time to avoid motion blur (in seconds)\n",
        "        max_exposure_time = spatial_resolution_m / speed_ms\n",
        "        return max_exposure_time * 1000  # Return in milliseconds\n",
        "    \n",
        "\n",
        "    def __str__(self):\n",
        "        return (f\"Resolution: {self.resolution_h} x {self.resolution_v} pixels\\n\"\n",
        "                f\"Pixel Size: {self.pixel_size_h} x {self.pixel_size_v} µm\\n\"\n",
        "                f\"Line Rate: {self.line_rate} lines/s\\n\"\n",
        "                f\"FOV: {self.getFOV()} m\\n\"\n",
        "                f\"Spatial resolution: {self.getSpartial()} mm/pixel\\n\")"
      ]
    },
    {
      "cell_type": "code",
      "execution_count": 28,
      "metadata": {
        "colab": {
          "base_uri": "https://localhost:8080/"
        },
        "id": "RkDCVsaAg30m",
        "outputId": "36f8b3fd-0d25-4199-a1c6-015c05c7409f"
      },
      "outputs": [
        {
          "name": "stdout",
          "output_type": "stream",
          "text": [
            "--------------------------------\n",
            "Resolution: 4096 x 1 pixels\n",
            "Pixel Size: 7.0 x 7.0 µm\n",
            "Line Rate: 200000 lines/s\n",
            "FOV: 4.385129411764706 m\n",
            "Spatial resolution: 1.0705882352941176 mm/pixel\n",
            "\n",
            "Line rate at 10 km/h: 2594.6275946275946 lines/sec\n",
            "Maximum exposure time to avoid motion blur: 0.385 ms\n"
          ]
        }
      ],
      "source": [
        "WD = 1.3\n",
        "speed_kmh = 10 #km/h\n",
        "\n",
        "print(\"--------------------------------\")\n",
        "# raL4096-48gm\n",
        "CamSpecs2 = {\n",
        "    \"Resolution\": (4096, 1),  # 4096 pixels in horizontal direction, 1 pixel in vertical direction\n",
        "    \"Pixel Size\": (7.0, 7.0),  # µm\n",
        "    \"Line Rate\": 200000  # lines/s\n",
        "}\n",
        "\n",
        "camera2 = lineScanCam(focal=8.5, WD=WD, CamSpecs=CamSpecs2)\n",
        "print(camera2)\n",
        "\n",
        "line_rate = camera2.calculateLineRate(speed_kmh)\n",
        "max_exposure_time = camera2.calculateMaxExposureTime(speed_kmh)\n",
        "\n",
        "print(f\"Line rate at {speed_kmh} km/h: {line_rate} lines/sec\")\n",
        "print(f\"Maximum exposure time to avoid motion blur: {max_exposure_time:.3f} ms\")\n"
      ]
    }
  ],
  "metadata": {
    "colab": {
      "provenance": []
    },
    "kernelspec": {
      "display_name": "Python 3",
      "name": "python3"
    },
    "language_info": {
      "codemirror_mode": {
        "name": "ipython",
        "version": 3
      },
      "file_extension": ".py",
      "mimetype": "text/x-python",
      "name": "python",
      "nbconvert_exporter": "python",
      "pygments_lexer": "ipython3",
      "version": "3.12.4"
    }
  },
  "nbformat": 4,
  "nbformat_minor": 0
}
